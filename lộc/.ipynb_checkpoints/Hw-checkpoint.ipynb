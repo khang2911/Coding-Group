{
 "cells": [
  {
   "cell_type": "code",
   "execution_count": 1,
   "metadata": {},
   "outputs": [
    {
     "name": "stdout",
     "output_type": "stream",
     "text": [
      "c= 1712708\n"
     ]
    }
   ],
   "source": [
    "a = 898\n",
    "b = 952\n",
    "c = a**2 + b**2\n",
    "print('c=',c)"
   ]
  },
  {
   "cell_type": "code",
   "execution_count": 2,
   "metadata": {},
   "outputs": [],
   "source": [
    "m ='kJiBzknq9yrMMyslOSTzKPIyZfD4tt8Q1ZcKIFFR9SZM6MyEcizUIVNvpFcYDaeCl4UvmT0NkAJ5yJEgnwNnzTHsXOTjKAgamaaRZhXGzu1EPZlwbctataricusnCOC2Ux99aTCS5r6btNZ6ypGhMlJFYLhXWrCe9ow4DO3Opz1MQqJ5SRlKVdfbA2.'"
   ]
  },
  {
   "cell_type": "code",
   "execution_count": 3,
   "metadata": {},
   "outputs": [
    {
     "name": "stdout",
     "output_type": "stream",
     "text": [
      "Agama tataricus\n"
     ]
    }
   ],
   "source": [
    "a = m[93:98]\n",
    "b = m[114:123]\n",
    "print(a +' '+ b)"
   ]
  },
  {
   "cell_type": "code",
   "execution_count": 4,
   "metadata": {},
   "outputs": [],
   "source": [
    "a = 4928\n",
    "b = 9898"
   ]
  },
  {
   "cell_type": "code",
   "execution_count": 5,
   "metadata": {},
   "outputs": [
    {
     "name": "stdout",
     "output_type": "stream",
     "text": [
      "18421305\n"
     ]
    }
   ],
   "source": [
    "c=''\n",
    "if a < b < 10000:\n",
    "    for each in range(a,b):\n",
    "        if each % 2==1:\n",
    "            if c =='':\n",
    "                c= each\n",
    "            elif c !='':\n",
    "                c = c + each\n",
    "print(c)"
   ]
  },
  {
   "cell_type": "code",
   "execution_count": 6,
   "metadata": {},
   "outputs": [],
   "source": [
    "f = open('rosalind_ini5.txt').read()"
   ]
  },
  {
   "cell_type": "code",
   "execution_count": 7,
   "metadata": {},
   "outputs": [],
   "source": [
    "c= f.split('\\n')"
   ]
  },
  {
   "cell_type": "code",
   "execution_count": null,
   "metadata": {},
   "outputs": [],
   "source": []
  }
 ],
 "metadata": {
  "kernelspec": {
   "display_name": "Python 3",
   "language": "python",
   "name": "python3"
  },
  "language_info": {
   "codemirror_mode": {
    "name": "ipython",
    "version": 3
   },
   "file_extension": ".py",
   "mimetype": "text/x-python",
   "name": "python",
   "nbconvert_exporter": "python",
   "pygments_lexer": "ipython3",
   "version": "3.6.4"
  }
 },
 "nbformat": 4,
 "nbformat_minor": 2
}
