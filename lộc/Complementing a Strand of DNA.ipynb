{
 "cells": [
  {
   "cell_type": "code",
   "execution_count": 25,
   "metadata": {},
   "outputs": [
    {
     "name": "stdout",
     "output_type": "stream",
     "text": [
      "\n",
      "CGAATGGCTTTACTGAGAACGTACGGGCCGCATGATATGCCTACTCTTGTCCTCTAGATGACGTGTAGTTACCTAGATTAGGTCGCTATTCTCAGGGAAGGGCGGAGAAGCGTAGCATTCAGTAACAGGGTTCCAGCCCGACCCTAGGCACGAAAGGGCCTCGCTAATCCTACTGACAGAAAACCACTGCACTGGTCGGCATACACCGATTTAAGACACTCGCCCGCAGCTCCTAATTTCGCCGAATGGGGATTGGTTCTACAGGGATATTAAGCTTGAGCCAGTTTTGCTGCATTTTGCACGGCGCGCGACTCAACCGGTGCTATTTACTTAAGCTGGTAGGAGAGCACTAGCCCAATTTGCCGGAATAAGCCTCTGAGCCATCAATCATAGGGCGATACGTATTCACTGCGTACTAACATAGGAGCTCTCAATGATGCGGCTAGCAAGGATGACAACTTTCATATACGCAGATTTTTTACAGGGTGACGCTCTTGTCTTCAGATAGAGTATTAGACAAGATATATTTAGACGCTTCGGACTGACCCTTAATTCACGGGCCTTACTCAAATATCACCGTCCCACCCATTTAATATTGTACACTCCTACCTGCCCGTCAGTATTGCGCGCTGTCACAGCTAGTGGTATTGCTGAACGTCTATGGCTCTTCTTCCGCCGACTTAGGACTTCCCCTCAGCATTTATTAGGGTGAGACCAAACACCAGCATTTGAATCGGCGTGAAACCCTCATTTTCCGATCCTGCAGTGTCAGACCAGAGTCCTTCCATATGAATTACCATTGCTACTTAGTAACAGTGACTATCGACGCGGAGATTGAGCGCTTGGCCAAGAGGGCTAGGAGACACAGTCATCCGCGTCTCACCCAGCTATACCGAATCATAAGCGATGCAAACTGACATAAAGCGCGTATAGCTCTATGGCGGGGACGGGACGTATTCTAGGACCTGAGTGGAGCTCGATTG\n"
     ]
    }
   ],
   "source": [
    "#### Complementing a Strand of DNA\n",
    "a=open('rosalind_revc.txt').read()\n",
    "seq=''\n",
    "for nu in list(a[::-1]):\n",
    "    if seq=='':\n",
    "        if nu=='A':\n",
    "            nu= 'T'\n",
    "        elif nu=='T':\n",
    "            nu= 'A'\n",
    "        elif nu =='G':\n",
    "            nu='C'\n",
    "        elif nu =='C':\n",
    "            nu='G'\n",
    "        seq = nu\n",
    "    elif seq !='':\n",
    "        if nu=='A':\n",
    "            nu= 'T'\n",
    "        elif nu=='T':\n",
    "            nu= 'A'\n",
    "        elif nu =='G':\n",
    "            nu='C'\n",
    "        elif nu =='C':\n",
    "            nu='G'\n",
    "        seq = seq + nu\n",
    "print (seq)"
   ]
  }
 ],
 "metadata": {
  "kernelspec": {
   "display_name": "Python 3",
   "language": "python",
   "name": "python3"
  },
  "language_info": {
   "codemirror_mode": {
    "name": "ipython",
    "version": 3
   },
   "file_extension": ".py",
   "mimetype": "text/x-python",
   "name": "python",
   "nbconvert_exporter": "python",
   "pygments_lexer": "ipython3",
   "version": "3.6.4"
  }
 },
 "nbformat": 4,
 "nbformat_minor": 2
}
