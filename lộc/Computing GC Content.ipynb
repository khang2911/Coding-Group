{
 "cells": [
  {
   "cell_type": "code",
   "execution_count": 8,
   "metadata": {},
   "outputs": [
    {
     "name": "stdout",
     "output_type": "stream",
     "text": [
      "Rosalind_1996\n",
      "52.767528\n"
     ]
    }
   ],
   "source": [
    "a=open('rosalind_gc.txt').read()\n",
    "b=a.splitlines()\n",
    "seq=''\n",
    "header=''\n",
    "percent=''\n",
    "last_percent=''\n",
    "last_header=''\n",
    "last_seq=''\n",
    "for nu in b:\n",
    "    if last_percent=='':\n",
    "        if nu[0] =='>':\n",
    "            if last_seq !='':\n",
    "                last_percent= 100*(last_seq.count('C')+last_seq.count('G'))/(len(last_seq)) \n",
    "                header = nu\n",
    "            else:\n",
    "                last_header = nu\n",
    "        elif last_seq =='':\n",
    "            last_seq = nu\n",
    "        elif last_seq !='':\n",
    "            last_seq = last_seq + nu\n",
    "    elif last_percent !='':\n",
    "        if nu[0] =='>':\n",
    "            if seq!='':\n",
    "                percent= 100*(seq.count('C')+seq.count('G'))/(len(seq))\n",
    "                if percent > last_percent:\n",
    "                    last_percent= percent\n",
    "                    last_header = header\n",
    "            header = nu\n",
    "            seq=''\n",
    "        elif seq =='':\n",
    "            seq = nu\n",
    "        elif seq !='':\n",
    "            seq = seq + nu\n",
    "percent= 100*(seq.count('C')+seq.count('G'))/(len(seq))\n",
    "if percent > last_percent:\n",
    "    last_percent= percent\n",
    "    last_header = header\n",
    "print(last_header[1::])\n",
    "print(round(last_percent,6))\n",
    "            "
   ]
  },
  {
   "cell_type": "code",
   "execution_count": null,
   "metadata": {},
   "outputs": [],
   "source": []
  }
 ],
 "metadata": {
  "kernelspec": {
   "display_name": "Python 3",
   "language": "python",
   "name": "python3"
  },
  "language_info": {
   "codemirror_mode": {
    "name": "ipython",
    "version": 3
   },
   "file_extension": ".py",
   "mimetype": "text/x-python",
   "name": "python",
   "nbconvert_exporter": "python",
   "pygments_lexer": "ipython3",
   "version": "3.6.4"
  }
 },
 "nbformat": 4,
 "nbformat_minor": 2
}
