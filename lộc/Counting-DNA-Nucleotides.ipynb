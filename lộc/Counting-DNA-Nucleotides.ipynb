{
 "cells": [
  {
   "cell_type": "code",
   "execution_count": 11,
   "metadata": {},
   "outputs": [],
   "source": [
    "a = open('rosalind_dna.txt').read()"
   ]
  },
  {
   "cell_type": "code",
   "execution_count": 17,
   "metadata": {},
   "outputs": [
    {
     "name": "stdout",
     "output_type": "stream",
     "text": [
      "C 200\n",
      "A 207\n",
      "T 226\n",
      "G 197\n",
      "\n",
      " 1\n"
     ]
    }
   ],
   "source": [
    "#### Counting DNA Nucleotides\n",
    "counts = dict()\n",
    "for each in list(a):\n",
    "    if each in counts:\n",
    "        counts[each] +=1\n",
    "    else:\n",
    "        counts[each] = 1\n",
    "for key,value in dict.items(counts):\n",
    "    print(key+' '+str(value))"
   ]
  },
  {
   "cell_type": "code",
   "execution_count": null,
   "metadata": {},
   "outputs": [],
   "source": []
  }
 ],
 "metadata": {
  "kernelspec": {
   "display_name": "Python 3",
   "language": "python",
   "name": "python3"
  },
  "language_info": {
   "codemirror_mode": {
    "name": "ipython",
    "version": 3
   },
   "file_extension": ".py",
   "mimetype": "text/x-python",
   "name": "python",
   "nbconvert_exporter": "python",
   "pygments_lexer": "ipython3",
   "version": "3.6.4"
  }
 },
 "nbformat": 4,
 "nbformat_minor": 2
}
