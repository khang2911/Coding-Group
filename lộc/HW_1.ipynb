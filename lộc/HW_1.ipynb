{
 "cells": [
  {
   "cell_type": "code",
   "execution_count": null,
   "metadata": {},
   "outputs": [],
   "source": [
    "#### Counting DNA Nucleotides\n",
    "counts = dict()\n",
    "for each in list(a):\n",
    "    if each in counts:\n",
    "        counts[each] +=1\n",
    "    else:\n",
    "        counts[each] = 1\n",
    "for key,value in dict.items(counts):\n",
    "    print(key+' '+str(value))"
   ]
  },
  {
   "cell_type": "code",
   "execution_count": null,
   "metadata": {},
   "outputs": [],
   "source": [
    "#### Transcribing DNA into RNA\n",
    "a=open('rosalind_rna.txt').read()\n",
    "seq=''\n",
    "for nu in list(a):\n",
    "    if seq=='':\n",
    "        if nu =='T':\n",
    "            nu ='U'\n",
    "            seq = nu\n",
    "        else:\n",
    "            seq = nu\n",
    "    elif seq !='':\n",
    "        if nu =='T':\n",
    "            nu ='U'\n",
    "            seq = seq + nu\n",
    "        else:\n",
    "            seq= seq + nu\n",
    "print(seq)"
   ]
  }
 ],
 "metadata": {
  "kernelspec": {
   "display_name": "Python 3",
   "language": "python",
   "name": "python3"
  },
  "language_info": {
   "codemirror_mode": {
    "name": "ipython",
    "version": 3
   },
   "file_extension": ".py",
   "mimetype": "text/x-python",
   "name": "python",
   "nbconvert_exporter": "python",
   "pygments_lexer": "ipython3",
   "version": "3.6.4"
  }
 },
 "nbformat": 4,
 "nbformat_minor": 2
}
