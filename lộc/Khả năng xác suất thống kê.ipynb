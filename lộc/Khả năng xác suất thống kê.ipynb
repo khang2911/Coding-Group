{
 "cells": [
  {
   "cell_type": "code",
   "execution_count": 3,
   "metadata": {},
   "outputs": [
    {
     "name": "stdout",
     "output_type": "stream",
     "text": [
      "Reject Ho\n",
      "u1 != u2\n"
     ]
    }
   ],
   "source": [
    "a=open('lcl.fasta').read()\n",
    "b=a.splitlines()\n",
    "n1=a.count('>Group1')\n",
    "n2=a.count('>Group2')\n",
    "header1=''\n",
    "header2=''\n",
    "seq1=''\n",
    "seq2=''\n",
    "GC1='' #ratio of GC1\n",
    "GC2='' #ratio of GC2\n",
    "sumGC1=0 \n",
    "sumGC2=0\n",
    "sum_GC1_2=0 # bình tổng của GC1\n",
    "sum_GC2_2=0 # bình tổng của GC2\n",
    "mean_GC1=''\n",
    "mean_GC2=''\n",
    "s1='' # standard\n",
    "s2=''\n",
    "t_test=''\n",
    "for each in b:\n",
    "    if each[0:6] =='>Group1':\n",
    "        if seq1 !='':\n",
    "            GC1=(seq1.count('G')+seq1.count('C'))/len(seq1)\n",
    "            sumGC1= sumGC1 + GC1\n",
    "            sum_GC1_2= sum_GC1_2+ GC1**2\n",
    "        header1 = each\n",
    "        seq1 = ''\n",
    "    elif seq1 =='':\n",
    "        seq1 = each\n",
    "    elif seq1 !='':\n",
    "        seq1 = seq1 + each\n",
    "    if each[0:6] =='>Group2':\n",
    "        if seq1 !='':\n",
    "            GC2=(seq2.count('G')+seq2.count('C'))/len(seq2)\n",
    "            sumGC2= sumGC2 + GC2\n",
    "            sum_GC2_2= sum_GC2_2+ GC2**2\n",
    "        header2 = each\n",
    "        seq2 = ''\n",
    "    elif seq2 =='':\n",
    "        seq2 = each\n",
    "    elif seq2 !='':\n",
    "        seq2 = seq2 + each\n",
    "GC1=(seq1.count('G')+seq1.count('C'))/len(seq1)\n",
    "sumGC1= sumGC1 + GC1\n",
    "sum_GC1_2= sum_GC1_2+ GC1**2\n",
    "GC2=(seq2.count('G')+seq2.count('C'))/len(seq2)\n",
    "sumGC2= sumGC2 + GC2\n",
    "sum_GC2_2= sum_GC2_2+ GC2**2\n",
    "mean_GC1= sumGC1/n1\n",
    "mean_GC2= sumGC2/n2\n",
    "s1=((sum_GC1_2)+(sumGC1)/(n1-1))/n1\n",
    "s2=((sum_GC2_2)+(sumGC1)/(n2-1))/n2\n",
    "t_test =(mean_GC1-mean_GC2)/(((s1**2 *(n1-1)+s2**2 *(n2-1))/(n1+n2-2))**(1/2) *(1/n1 + 1/n2)**(1/2)) \n",
    "# Ho: u1 == u2\n",
    "# H1: u1 != u2\n",
    "if t_test < -0.025 or t_test>0.025:\n",
    "    print('Reject Ho')\n",
    "    print('u1 != u2')\n",
    "else:\n",
    "    print('Accept Ho')\n",
    "    print('u1 == u2')"
   ]
  },
  {
   "cell_type": "code",
   "execution_count": 2,
   "metadata": {},
   "outputs": [
    {
     "data": {
      "text/plain": [
       "0.404254164156732"
      ]
     },
     "execution_count": 2,
     "metadata": {},
     "output_type": "execute_result"
    }
   ],
   "source": []
  },
  {
   "cell_type": "code",
   "execution_count": null,
   "metadata": {},
   "outputs": [],
   "source": []
  }
 ],
 "metadata": {
  "kernelspec": {
   "display_name": "Python 3",
   "language": "python",
   "name": "python3"
  },
  "language_info": {
   "codemirror_mode": {
    "name": "ipython",
    "version": 3
   },
   "file_extension": ".py",
   "mimetype": "text/x-python",
   "name": "python",
   "nbconvert_exporter": "python",
   "pygments_lexer": "ipython3",
   "version": "3.6.4"
  }
 },
 "nbformat": 4,
 "nbformat_minor": 2
}
