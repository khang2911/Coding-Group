{
 "cells": [
  {
   "cell_type": "code",
   "execution_count": 10,
   "metadata": {},
   "outputs": [
    {
     "ename": "IndexError",
     "evalue": "string index out of range",
     "output_type": "error",
     "traceback": [
      "\u001b[1;31m---------------------------------------------------------------------------\u001b[0m",
      "\u001b[1;31mIndexError\u001b[0m                                Traceback (most recent call last)",
      "\u001b[1;32m<ipython-input-10-fde0ecdec725>\u001b[0m in \u001b[0;36m<module>\u001b[1;34m()\u001b[0m\n\u001b[0;32m     11\u001b[0m \u001b[0msum_GC\u001b[0m\u001b[1;33m=\u001b[0m\u001b[1;36m0\u001b[0m\u001b[1;33m\u001b[0m\u001b[0m\n\u001b[0;32m     12\u001b[0m \u001b[1;32mfor\u001b[0m \u001b[0meach\u001b[0m \u001b[1;32min\u001b[0m \u001b[0mb\u001b[0m\u001b[1;33m:\u001b[0m\u001b[1;33m\u001b[0m\u001b[0m\n\u001b[1;32m---> 13\u001b[1;33m     \u001b[1;32mif\u001b[0m \u001b[0meach\u001b[0m\u001b[1;33m[\u001b[0m\u001b[1;36m0\u001b[0m\u001b[1;33m]\u001b[0m \u001b[1;33m==\u001b[0m\u001b[1;34m'>'\u001b[0m\u001b[1;33m:\u001b[0m\u001b[1;33m\u001b[0m\u001b[0m\n\u001b[0m\u001b[0;32m     14\u001b[0m         \u001b[1;32mif\u001b[0m \u001b[0mseq\u001b[0m \u001b[1;33m!=\u001b[0m\u001b[1;34m''\u001b[0m\u001b[1;33m:\u001b[0m\u001b[1;33m\u001b[0m\u001b[0m\n\u001b[0;32m     15\u001b[0m             \u001b[1;32mif\u001b[0m \u001b[0mlast_lenseq\u001b[0m \u001b[1;33m==\u001b[0m\u001b[1;34m''\u001b[0m \u001b[1;32mand\u001b[0m \u001b[0mlastGC_ratio\u001b[0m \u001b[1;33m==\u001b[0m\u001b[1;34m''\u001b[0m\u001b[1;33m:\u001b[0m\u001b[1;33m\u001b[0m\u001b[0m\n",
      "\u001b[1;31mIndexError\u001b[0m: string index out of range"
     ]
    }
   ],
   "source": [
    "a=open('lcl.fasta').read()\n",
    "b=a.splitlines()\n",
    "header=''\n",
    "seq=''\n",
    "last_lenseq=''\n",
    "lenseq=''\n",
    "sum_len=0\n",
    "n=0\n",
    "lastGC_ratio=''\n",
    "GC_ratio=''\n",
    "sum_GC=0\n",
    "for each in b:\n",
    "    if each[0] =='>':\n",
    "        if seq !='':\n",
    "            if last_lenseq =='' and lastGC_ratio =='':\n",
    "                last_lenseq=len(seq)\n",
    "                sum_len= sum_len + len(seq)\n",
    "                lastGC_ration=(seq.count('G')+seq.count('C'))/last_lenseq\n",
    "                sum_GC= sum_GC + lastGC_ration\n",
    "                seq=''\n",
    "            elif last_lenseq !=''and lastGC_ratio !='':\n",
    "                lenseq=len(seq)\n",
    "                sum_len= sum_len +len(seq)\n",
    "                GC_ration=(seq.count('G')+seq.count('C'))/lenseq\n",
    "                sum_GC= sum_GC + GC_ratio\n",
    "                seq=''\n",
    "                if lenseq > last_lenseq:\n",
    "                    last_lenseq=lenseq\n",
    "                elif GC_ratio > lastGC_ratio:\n",
    "                    lastGC_ratio=GC_ratio\n",
    "        header = each\n",
    "        n=n+1\n",
    "    elif seq =='':\n",
    "        seq = each\n",
    "    elif seq !='':\n",
    "        seq = seq + each\n",
    "lenseq=len(seq)\n",
    "sum_len= sum_len +len(seq)\n",
    "GC_ratio=(seq.count('G')+seq.count('C'))/lenseq\n",
    "sum_GC= sum_GC + GC_ratio\n",
    "if lenseq > last_lenseq:\n",
    "    last_lenseq = lenseq\n",
    "if GC_ratio > lastGC_ratio:\n",
    "    lastGC_ratio=GC_ratio\n",
    "print(1,last_lenseq)\n",
    "print(2,sum_GC/n)\n",
    "print(3,lastGC_ratio)\n",
    "print(4,sum_GC/n)"
   ]
  },
  {
   "cell_type": "code",
   "execution_count": null,
   "metadata": {},
   "outputs": [],
   "source": []
  }
 ],
 "metadata": {
  "kernelspec": {
   "display_name": "Python 3",
   "language": "python",
   "name": "python3"
  },
  "language_info": {
   "codemirror_mode": {
    "name": "ipython",
    "version": 3
   },
   "file_extension": ".py",
   "mimetype": "text/x-python",
   "name": "python",
   "nbconvert_exporter": "python",
   "pygments_lexer": "ipython3",
   "version": "3.6.4"
  }
 },
 "nbformat": 4,
 "nbformat_minor": 2
}
