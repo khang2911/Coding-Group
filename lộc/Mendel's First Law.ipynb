{
 "cells": [
  {
   "cell_type": "code",
   "execution_count": 15,
   "metadata": {},
   "outputs": [
    {
     "name": "stdout",
     "output_type": "stream",
     "text": [
      "0.7786654135338346\n"
     ]
    }
   ],
   "source": [
    "k=21 #### number of AA\n",
    "m=18 #### number of Aa\n",
    "n=18 #### number of aa\n",
    "t = k+m+n\n",
    "P_aa =(n/t)*((n-1)/(t-1))+2*(1/2)*(m/t)*(n/(t-1))+(m/t)*((m-1)/(t-1))*(1/4)####aa*aa - Aa*aa - Aa*Aa \n",
    "P=1-P_aa\n",
    "print(P)"
   ]
  },
  {
   "cell_type": "code",
   "execution_count": null,
   "metadata": {},
   "outputs": [],
   "source": []
  }
 ],
 "metadata": {
  "kernelspec": {
   "display_name": "Python 3",
   "language": "python",
   "name": "python3"
  },
  "language_info": {
   "codemirror_mode": {
    "name": "ipython",
    "version": 3
   },
   "file_extension": ".py",
   "mimetype": "text/x-python",
   "name": "python",
   "nbconvert_exporter": "python",
   "pygments_lexer": "ipython3",
   "version": "3.6.4"
  }
 },
 "nbformat": 4,
 "nbformat_minor": 2
}
