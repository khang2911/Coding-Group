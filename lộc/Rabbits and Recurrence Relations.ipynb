{
 "cells": [
  {
   "cell_type": "code",
   "execution_count": 4,
   "metadata": {},
   "outputs": [
    {
     "name": "stdout",
     "output_type": "stream",
     "text": [
      "2863396842201\n"
     ]
    }
   ],
   "source": [
    "#### Rabbits and Recurrence Relations\n",
    "k=4\n",
    "n=32 #### number of months\n",
    "x=1 #### number of mature rabbit\n",
    "y=k #### number of little rabit\n",
    "m=1 #### t = total of rabbit\n",
    "while m <(n-1): #### because F(1) = F(2) = 1 (little -> mature rabbit take 2 months)\n",
    "    if m==1: #### from 1 mature rabit\n",
    "        x=1\n",
    "        y=k\n",
    "        t=x + y\n",
    "        m=m+1\n",
    "    elif m==2:\n",
    "        x = x + y\n",
    "        y = k\n",
    "        t=x+y\n",
    "        m=m+1\n",
    "    elif m>2:\n",
    "        y =x*k\n",
    "        x = t #### if x = x+y, y change after the line upper -> wrong => must = t\n",
    "        t=x+y\n",
    "        m=m+1\n",
    "print(t)"
   ]
  },
  {
   "cell_type": "code",
   "execution_count": null,
   "metadata": {},
   "outputs": [],
   "source": []
  }
 ],
 "metadata": {
  "kernelspec": {
   "display_name": "Python 3",
   "language": "python",
   "name": "python3"
  },
  "language_info": {
   "codemirror_mode": {
    "name": "ipython",
    "version": 3
   },
   "file_extension": ".py",
   "mimetype": "text/x-python",
   "name": "python",
   "nbconvert_exporter": "python",
   "pygments_lexer": "ipython3",
   "version": "3.6.4"
  }
 },
 "nbformat": 4,
 "nbformat_minor": 2
}
