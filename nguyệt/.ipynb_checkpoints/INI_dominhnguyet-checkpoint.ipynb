{
 "cells": [
  {
   "cell_type": "code",
   "execution_count": 1,
   "metadata": {},
   "outputs": [
    {
     "name": "stdout",
     "output_type": "stream",
     "text": [
      "The Zen of Python, by Tim Peters\n",
      "\n",
      "Beautiful is better than ugly.\n",
      "Explicit is better than implicit.\n",
      "Simple is better than complex.\n",
      "Complex is better than complicated.\n",
      "Flat is better than nested.\n",
      "Sparse is better than dense.\n",
      "Readability counts.\n",
      "Special cases aren't special enough to break the rules.\n",
      "Although practicality beats purity.\n",
      "Errors should never pass silently.\n",
      "Unless explicitly silenced.\n",
      "In the face of ambiguity, refuse the temptation to guess.\n",
      "There should be one-- and preferably only one --obvious way to do it.\n",
      "Although that way may not be obvious at first unless you're Dutch.\n",
      "Now is better than never.\n",
      "Although never is often better than *right* now.\n",
      "If the implementation is hard to explain, it's a bad idea.\n",
      "If the implementation is easy to explain, it may be a good idea.\n",
      "Namespaces are one honking great idea -- let's do more of those!\n"
     ]
    }
   ],
   "source": [
    "#INI1\n",
    "import this"
   ]
  },
  {
   "cell_type": "code",
   "execution_count": 3,
   "metadata": {},
   "outputs": [
    {
     "name": "stdout",
     "output_type": "stream",
     "text": [
      "1780385\n"
     ]
    }
   ],
   "source": [
    "# INI2\n",
    "a = 944\n",
    "b = 943\n",
    "c = a ** 2 + b ** 2\n",
    "print(c)"
   ]
  },
  {
   "cell_type": "code",
   "execution_count": 14,
   "metadata": {},
   "outputs": [
    {
     "name": "stdout",
     "output_type": "stream",
     "text": [
      "Gambelia circia\n"
     ]
    }
   ],
   "source": [
    "# INI3\n",
    "data = ['3e3TC50tVr452ynwIuYv9bLe99gT5RkzNTXxkmrtxkf4FbgDqhxBndIZVpyPMt6K1GambeliaMDJmKXzXe9PpmLqkNV1ktGrJphaEUTIgcirciadhaOnURiUw0TBz2U5IUqlzXtpQW5e1nGNkTNy77T30ehSWLYfW0kCL.']\n",
    "for i in data:\n",
    "    print(i[65:73] + ' ' + i[105:111])     "
   ]
  },
  {
   "cell_type": "code",
   "execution_count": 47,
   "metadata": {},
   "outputs": [
    {
     "name": "stdout",
     "output_type": "stream",
     "text": [
      "12976500\n"
     ]
    }
   ],
   "source": [
    "# INI4\n",
    "odd = 0\n",
    "sequence = range(4041,8260)\n",
    "for i in sequence:\n",
    "    if i % 2 == 1:\n",
    "        odd = odd + i\n",
    "print(odd)"
   ]
  },
  {
   "cell_type": "code",
   "execution_count": 55,
   "metadata": {},
   "outputs": [
    {
     "name": "stdout",
     "output_type": "stream",
     "text": [
      "Some things in life are bad, they can really make you mad\n",
      "\n",
      "Other things just make you swear and curse\n",
      "\n",
      "When you're chewing on life's gristle, don't grumble give a whistle\n",
      "\n",
      "This will help things turn out for the best\n",
      "\n",
      "Always look on the bright side of life\n",
      "\n",
      "Always look on the right side of life\n",
      "\n",
      "If life seems jolly rotten, there's something you've forgotten\n",
      "\n",
      "And that's to laugh and smile and dance and sing\n",
      "\n",
      "When you're feeling in the dumps, don't be silly, chumps\n",
      "\n",
      "Just purse your lips and whistle, that's the thing\n",
      "\n",
      "So, always look on the bright side of death\n",
      "\n",
      "Just before you draw your terminal breath\n",
      "\n",
      "Life's a counterfeit and when you look at it\n",
      "\n",
      "Life's a laugh and death's the joke, it's true\n",
      "\n",
      "You see, it's all a show, keep them laughing as you go\n",
      "\n",
      "Just remember the last laugh is on you\n",
      "\n",
      "Always look on the bright side of life\n",
      "\n",
      "And always look on the right side of life\n",
      "\n",
      "Always look on the bright side of life\n",
      "\n",
      "And always look on the right side of life\n",
      "\n"
     ]
    }
   ],
   "source": [
    "# INI5\n",
    "i = 1\n",
    "file = open('rosalind_ini5.txt')\n",
    "for line in file.readlines():\n",
    "    if i % 2 == 0 :\n",
    "        print(line)\n",
    "    i += 1"
   ]
  },
  {
   "cell_type": "code",
   "execution_count": 2,
   "metadata": {},
   "outputs": [
    {
     "name": "stdout",
     "output_type": "stream",
     "text": [
      "When 1\n",
      "I 2\n",
      "find 1\n",
      "myself 1\n",
      "in 4\n",
      "times 1\n",
      "of 11\n",
      "trouble 1\n",
      "Mother 2\n",
      "Mary 2\n",
      "comes 2\n",
      "to 3\n",
      "me 4\n",
      "Speaking 3\n",
      "words 7\n",
      "wisdom 7\n",
      "let 30\n",
      "it 36\n",
      "be 41\n",
      "And 3\n",
      "my 1\n",
      "hour 1\n",
      "darkness 1\n",
      "she 1\n",
      "is 4\n",
      "standing 1\n",
      "right 1\n",
      "front 1\n",
      "Let 6\n",
      "Whisper 4\n",
      "when 2\n",
      "the 4\n",
      "broken 1\n",
      "hearted 1\n",
      "people 1\n",
      "living 1\n",
      "world 1\n",
      "agree 1\n",
      "There 4\n",
      "will 5\n",
      "an 4\n",
      "answer 4\n",
      "For 1\n",
      "though 1\n",
      "they 2\n",
      "may 1\n",
      "parted 1\n",
      "there 2\n",
      "still 2\n",
      "a 2\n",
      "chance 1\n",
      "that 2\n",
      "see 1\n",
      "night 1\n",
      "cloudy 1\n",
      "light 1\n",
      "shines 1\n",
      "on 1\n",
      "Shine 1\n",
      "until 1\n",
      "tomorrow 1\n",
      "wake 1\n",
      "up 1\n",
      "sound 1\n",
      "music 1\n",
      "yeah 2\n"
     ]
    }
   ],
   "source": [
    "#INI6\n",
    "data = open('rosalind_ini7.txt').read()\n",
    "section = data.split()\n",
    "counts = dict()\n",
    "for word in section:\n",
    "    if word in counts:\n",
    "            counts[word] += 1\n",
    "    else:\n",
    "            counts[word] = 1\n",
    "for key,value in dict.items(counts):\n",
    "    print(key + ' ' + str(value))"
   ]
  },
  {
   "cell_type": "code",
   "execution_count": null,
   "metadata": {},
   "outputs": [],
   "source": []
  }
 ],
 "metadata": {
  "kernelspec": {
   "display_name": "Python 3",
   "language": "python",
   "name": "python3"
  },
  "language_info": {
   "codemirror_mode": {
    "name": "ipython",
    "version": 3
   },
   "file_extension": ".py",
   "mimetype": "text/x-python",
   "name": "python",
   "nbconvert_exporter": "python",
   "pygments_lexer": "ipython3",
   "version": "3.6.4"
  }
 },
 "nbformat": 4,
 "nbformat_minor": 2
}
