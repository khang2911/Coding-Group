{
 "cells": [
  {
   "cell_type": "code",
   "execution_count": 26,
   "metadata": {},
   "outputs": [
    {
     "name": "stdout",
     "output_type": "stream",
     "text": [
      "223\n",
      "211\n",
      "215\n",
      "204\n"
     ]
    }
   ],
   "source": [
    "#DNA\n",
    "s = open('rosalind_dna.txt').read().split('\\n')\n",
    "dicts = {}\n",
    "for i in s[0]:\n",
    "    if i in dicts:\n",
    "        dicts[i] += 1\n",
    "    else:\n",
    "        dicts[i] = 1\n",
    "for key,value in dicts.items():\n",
    "    print (str(value))\n",
    "        "
   ]
  },
  {
   "cell_type": "code",
   "execution_count": null,
   "metadata": {},
   "outputs": [],
   "source": []
  }
 ],
 "metadata": {
  "kernelspec": {
   "display_name": "Python 3",
   "language": "python",
   "name": "python3"
  },
  "language_info": {
   "codemirror_mode": {
    "name": "ipython",
    "version": 3
   },
   "file_extension": ".py",
   "mimetype": "text/x-python",
   "name": "python",
   "nbconvert_exporter": "python",
   "pygments_lexer": "ipython3",
   "version": "3.6.4"
  }
 },
 "nbformat": 4,
 "nbformat_minor": 2
}
