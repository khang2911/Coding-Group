{
 "cells": [
  {
   "cell_type": "code",
   "execution_count": 6,
   "metadata": {},
   "outputs": [
    {
     "name": "stdout",
     "output_type": "stream",
     "text": [
      "CCACCCGGAGAUAGAGCACUAUUGAUCGGGGACUCUAAACAAAUCUGCCGGCCCCUAAAGAACUGUUGGCUUAGAACGGAAUGUGGCAUACAACUGAUGCAUGUUAACAGCUAUUAACGCUGUGAUUCUUCGUCUGAACUAAAUCAGUAUGCAUAGAGUCUGCAUCAAGGUGGACAGACCUCACACGUAAUAGACUUGCUUUAACUGAUUAUAUGUCUGAUCAUUUUGUUCAAGAUAUAUCCCAUCCGUGGGCAUAUAGUGAGCAUACUUCACCACAUCUGUCGCGGCUCAGUCAAGGACUCCGCUUCAACCACCUGAACGCCGGCAGCUCCGAUGUUCCACUACUGUGAAUGGUUUAUACCUAGAGUAAGUACGCUAAGGUCGUACAGGCCACAAACGCGUCGGGCACUCUGGACGAUUAGCUGCGUGGAUACCGUGUCUGGGCAGCUAGAGUUAUUCGCUUUUAAUGGGAAGCCUAAUCCGAGAAUAGUCCGCUACCGCACGGGGCACAAAUCAUGAGUCGUUGAGGAGGCAUGCUAUUCCAUCACACAAGCUAUACGAACUCUUUGCUGGCGGUAUACCUGCUGAGGUUGUCGAAAUAGUCUUCACACUUUAUUUCCAAGCGUUCUCAGGGAUUAUAAAACUAAGGUAGCUGGGCUAAUACGUGGCGCAUCGGAAAUGUGGCAAUGUAAUCCCUCCUGGCCCACGAGUUGGUAGUUCACCCAGUAGGGAUAGAGCUGUAUUUAAGGGAAAAUCCUGUCGCGUAACUGCGCAACGCUCACAUGGCCAUCAACCAACCAGAACUCUCGACACAGUAUGCGGGCGUAGGGGUCGCUUCCCUGAACAAUCGCAGCUUAUUACGAGUGCGUUUGAACGUGGCGGGGAAGGGGGGAGAUAGUGGGCAGCAAAGGUUGUCACUUCGCCCUAGUAGUAGGAACGGAAUGUGUAAUCCUGUUCGUACGCUGUACGUGGGUGCGUCAUGACUUU\n",
      "\n"
     ]
    }
   ],
   "source": [
    "#RNA\n",
    "data = open('rosalind_rna.txt').read()\n",
    "RNA = ''\n",
    "for i in data:\n",
    "    if i == \"T\":\n",
    "        RNA += \"U\"\n",
    "    else:\n",
    "        RNA += i\n",
    "print(RNA)"
   ]
  },
  {
   "cell_type": "code",
   "execution_count": null,
   "metadata": {},
   "outputs": [],
   "source": []
  },
  {
   "cell_type": "code",
   "execution_count": null,
   "metadata": {},
   "outputs": [],
   "source": []
  }
 ],
 "metadata": {
  "kernelspec": {
   "display_name": "Python 3",
   "language": "python",
   "name": "python3"
  },
  "language_info": {
   "codemirror_mode": {
    "name": "ipython",
    "version": 3
   },
   "file_extension": ".py",
   "mimetype": "text/x-python",
   "name": "python",
   "nbconvert_exporter": "python",
   "pygments_lexer": "ipython3",
   "version": "3.6.4"
  }
 },
 "nbformat": 4,
 "nbformat_minor": 2
}
