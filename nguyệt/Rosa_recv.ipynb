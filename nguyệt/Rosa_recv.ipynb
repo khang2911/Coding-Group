{
 "cells": [
  {
   "cell_type": "code",
   "execution_count": 4,
   "metadata": {},
   "outputs": [
    {
     "name": "stdout",
     "output_type": "stream",
     "text": [
      "GATTGCATTCTGCTCCTTACATTCTCCCGATCGCTTGGGAGGGTCCAGCGAATTACTCTCAAATGTGTGTCCGAAGAAACGGTGGGACAACCTTGGGATGTGTATGTCACGTCAGGGACTTTGATTCTATCCAGCAGGGCTATCATGTGACCTGGCAGGGAAACTTCATTCTCGGTTTATTGACCGCCCCCCTAGCAAGTGGCTGCTTAAGCATCCGGGACCTAACCCTGGTAACCCTTGTTAAAAGTCAACGCCTGGCGATCGACTGTCGACTGGGCGGTTCCCGAGCTGAAAGGCATAGGACATTTGATGAAAAAGCCTTCGCCCAGGTCTACTAGCGCACGGAACTAGCAACCTACGAATGGTTGTCTCCCCCATGTCACACGTGGCCTGTAAAGGATAAGTATTTTCAGATAGAAACTGCTGCTTACGCTCAGTAGTCAAGTGAGTCGCTCATTACCGCACCACAGCGCCAACTCCTAGATGCTACTGCTGGAATGCATCGAACAGACCTCTAAGCCGCATGGATCTTCCCACGGACGTTACGGTCGCAGATTAACGGAACAGTGTGAGGGCTTTTGCGTCGGGGAAGCTCGGTTATAATGCACAGGGCGGATCTACCACTTAGTTTAATCCGGAGCATACTGCCAGGAGTAAAGGTATAATTGAAACCGCCAGAAGATATCATCTTTGCTCAAGGGAGAACCCTCATGGTCAGGACACGGGTCTACGTTCCTGAATGAGGTTCTGATAAGGCATTACACCGCAACCATCTGTTGGGCATGTAGTCTGCGCCTGAGGGTTTATGTTGGATCCTTTGATTTTCACCAGACTCGTCTGAAAATTGCCCACGGTGGC\n"
     ]
    }
   ],
   "source": [
    "#recv\n",
    "data = open('rosalind_revcn.txt').read()\n",
    "dicts = {'A':'T', 'C':'G', 'T':'A', 'G':'C'}\n",
    "DNA = ''\n",
    "for i in data[::-1]:\n",
    "    if(i != \"\\n\"):\n",
    "        DNA += dicts[i]\n",
    "print(DNA)"
   ]
  },
  {
   "cell_type": "code",
   "execution_count": null,
   "metadata": {},
   "outputs": [],
   "source": []
  }
 ],
 "metadata": {
  "kernelspec": {
   "display_name": "Python 3",
   "language": "python",
   "name": "python3"
  },
  "language_info": {
   "codemirror_mode": {
    "name": "ipython",
    "version": 3
   },
   "file_extension": ".py",
   "mimetype": "text/x-python",
   "name": "python",
   "nbconvert_exporter": "python",
   "pygments_lexer": "ipython3",
   "version": "3.6.4"
  }
 },
 "nbformat": 4,
 "nbformat_minor": 2
}
