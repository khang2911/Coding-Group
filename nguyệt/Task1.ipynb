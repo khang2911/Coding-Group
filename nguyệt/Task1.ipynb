{
 "cells": [
  {
   "cell_type": "code",
   "execution_count": 1,
   "metadata": {},
   "outputs": [
    {
     "data": {
      "text/plain": [
       "1230243"
      ]
     },
     "execution_count": 1,
     "metadata": {},
     "output_type": "execute_result"
    }
   ],
   "source": [
    "prefastaList = open('sequence.fasta').read().split('\\n',1)[1]\n",
    "fastaList = prefastaList.replace('\\n','') \n",
    "\n",
    "dict = {'A':'T','G':'C', 'C':'G','T':'A'} \n",
    "GC = 0\n",
    "reverseDNA = ''\n",
    "length = len(fastaList)   \n",
    "\n",
    "for i in fastaList:\n",
    "    if i == 'G' or i == 'C':\n",
    "        GC += 1\n",
    "    reverseDNA += dict[i]\n",
    "\n",
    "f = open('result1.txt','w')\n",
    "f.write('Total length: ' + str(length) + '\\n')\n",
    "f.write('GC ratio: ' + str(GC/length) + '\\n')\n",
    "f.write('Reverse DNA: '+ reverseDNA)\n",
    "\n",
    "\n",
    "\n",
    "\n"
   ]
  },
  {
   "cell_type": "code",
   "execution_count": null,
   "metadata": {},
   "outputs": [],
   "source": []
  }
 ],
 "metadata": {
  "kernelspec": {
   "display_name": "Python 3",
   "language": "python",
   "name": "python3"
  },
  "language_info": {
   "codemirror_mode": {
    "name": "ipython",
    "version": 3
   },
   "file_extension": ".py",
   "mimetype": "text/x-python",
   "name": "python",
   "nbconvert_exporter": "python",
   "pygments_lexer": "ipython3",
   "version": "3.6.4"
  }
 },
 "nbformat": 4,
 "nbformat_minor": 2
}
