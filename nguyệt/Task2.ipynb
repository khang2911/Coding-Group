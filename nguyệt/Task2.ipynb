{
 "cells": [
  {
   "cell_type": "code",
   "execution_count": 3,
   "metadata": {},
   "outputs": [
    {
     "data": {
      "text/plain": [
       "37"
      ]
     },
     "execution_count": 3,
     "metadata": {},
     "output_type": "execute_result"
    }
   ],
   "source": [
    "data = open('lcl.fasta').read().split('\\n')\n",
    "\n",
    "totalsequences = 0\n",
    "maximum = 0\n",
    "sequenceAverage = 0 \n",
    "GCratioMaximum =0\n",
    "GCratioAverage = 0\n",
    "GC = 0\n",
    "\n",
    "for i in data:\n",
    "    if '>' in i:\n",
    "        totalsequences += 1\n",
    "    else:\n",
    "        maximum = max(maximum,len(i))\n",
    "        sequenceAverage += len(i)\n",
    "        \n",
    "        for j in i:\n",
    "            if(j == 'C' or j == 'G'):\n",
    "                GC +=1\n",
    "        GCratioMaximum = max(GCratioMaximum,GC)\n",
    "        GCratioAverage += GC\n",
    "        GC = 0\n",
    "\n",
    "f  = open('result2.txt','w')\n",
    "f.write('Maximum sequence: ' + str(maximum) + '\\n')\n",
    "f.write('Average length of sequence: ' + str(sequenceAverage/totalsequences) + '\\n')\n",
    "f.write('Maximum GC ratio: ' + str(GCratioMaximum) + '\\n' )\n",
    "f.write('Average of GC ratio: ' + str(GCratioAverage/totalsequences))"
   ]
  },
  {
   "cell_type": "code",
   "execution_count": null,
   "metadata": {},
   "outputs": [],
   "source": []
  }
 ],
 "metadata": {
  "kernelspec": {
   "display_name": "Python 3",
   "language": "python",
   "name": "python3"
  },
  "language_info": {
   "codemirror_mode": {
    "name": "ipython",
    "version": 3
   },
   "file_extension": ".py",
   "mimetype": "text/x-python",
   "name": "python",
   "nbconvert_exporter": "python",
   "pygments_lexer": "ipython3",
   "version": "3.6.4"
  }
 },
 "nbformat": 4,
 "nbformat_minor": 2
}
