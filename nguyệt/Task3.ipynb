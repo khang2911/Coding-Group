{
 "cells": [
  {
   "cell_type": "code",
   "execution_count": 2,
   "metadata": {},
   "outputs": [],
   "source": [
    "import copy\n",
    "\n",
    "data = open('lcl3.fasta').read().split('\\n')\n",
    "\n",
    "allSequence = []\n",
    "currentSequence = [0]*3\n",
    "sequenceLength = 0\n",
    "sequence = ''\n",
    "sequenceName = ''\n",
    "\n",
    "for info in data:\n",
    "    if '>' in info or info == '':\n",
    "\n",
    "            if(sequence != '' and sequenceLength != 0 and sequenceName != ''):\n",
    "                currentSequence[0] = sequenceName + '\\n'\n",
    "                currentSequence[1] = sequence\n",
    "                currentSequence[2] = sequenceLength\n",
    "                allSequence.append(currentSequence)\n",
    "                sequenceName = ''\n",
    "                sequence = ''\n",
    "                sequenceLength = 0\n",
    "                currentSequence = [0]*3\n",
    "\n",
    "            if(sequenceName == ''):\n",
    "                sequenceName = info\n",
    "    else:\n",
    "        info = info + '\\n'\n",
    "        sequence += info\n",
    "        sequenceLength += len(info)\n",
    "\n",
    "allSequence = sorted(allSequence, key=lambda sequence:sequence[2],reverse=True)\n",
    "reverseSequence = copy.deepcopy(allSequence)\n",
    "\n",
    "dict = {'A':'T','G':'C','T':'A','C':'G'}\n",
    "reverse = ''\n",
    "for i in reverseSequence:\n",
    "    for j in i[1]:\n",
    "        if(j != '\\n'):\n",
    "            reverse += dict[j]\n",
    "        else:\n",
    "            reverse += '\\n'\n",
    "    i[1] = reverse       \n",
    "    reverse = ''\n",
    "\n",
    "\n",
    "f = open('resulta.fasta','w') \n",
    "for i in allSequence:\n",
    "    f.write(i[0])\n",
    "    f.write(i[1])\n",
    "f.close()\n",
    "\n",
    "f = open('resultb.fasta','w') \n",
    "for i in reverseSequence:\n",
    "    f.write(i[0])\n",
    "    f.write(i[1])\n",
    "f.close()\n"
   ]
  },
  {
   "cell_type": "code",
   "execution_count": null,
   "metadata": {},
   "outputs": [],
   "source": []
  }
 ],
 "metadata": {
  "kernelspec": {
   "display_name": "Python 3",
   "language": "python",
   "name": "python3"
  },
  "language_info": {
   "codemirror_mode": {
    "name": "ipython",
    "version": 3
   },
   "file_extension": ".py",
   "mimetype": "text/x-python",
   "name": "python",
   "nbconvert_exporter": "python",
   "pygments_lexer": "ipython3",
   "version": "3.6.4"
  }
 },
 "nbformat": 4,
 "nbformat_minor": 2
}
