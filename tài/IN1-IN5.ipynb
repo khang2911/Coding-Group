{
 "cells": [
  {
   "cell_type": "code",
   "execution_count": 42,
   "metadata": {},
   "outputs": [],
   "source": [
    "def sum_square(a,b):\n",
    "    c=a**2+b**2\n",
    "    print(c)\n",
    "    return c "
   ]
  },
  {
   "cell_type": "code",
   "execution_count": 46,
   "metadata": {},
   "outputs": [
    {
     "name": "stdout",
     "output_type": "stream",
     "text": [
      "1641425\n"
     ]
    },
    {
     "data": {
      "text/plain": [
       "1641425"
      ]
     },
     "execution_count": 46,
     "metadata": {},
     "output_type": "execute_result"
    }
   ],
   "source": [
    "sum_square(991,812)"
   ]
  },
  {
   "cell_type": "code",
   "execution_count": 24,
   "metadata": {},
   "outputs": [
    {
     "name": "stdout",
     "output_type": "stream",
     "text": [
      "Dyscophus chrysaetos\n"
     ]
    }
   ],
   "source": [
    "de_bai='kjEgCdO4mYrgwOg4DyscophusQKJycb45jbkF5hUATbMZapla1iGnbuYUzeCqmkmA85KaOFS6lcft2Bj5oAk2EJZihbfHd2ullEvxDcYeIzwoiWZgzhRQrkYkcsDqlhXENfInNotJgQkb8kchrysaetosir5efkv8kTXgIT41Tpq5qGOTppt.'\n",
    "a = de_bai[16:25] + ' '+ de_bai[143:153]\n",
    "print(a)"
   ]
  },
  {
   "cell_type": "code",
   "execution_count": 86,
   "metadata": {},
   "outputs": [],
   "source": [
    "def sum(a,b):\n",
    "    c = 10000\n",
    "    for n in range(a,b):\n",
    "        if n % 2 == 1:\n",
    "            c += n\n",
    "    return c"
   ]
  },
  {
   "cell_type": "code",
   "execution_count": 87,
   "metadata": {},
   "outputs": [
    {
     "data": {
      "text/plain": [
       "13817475"
      ]
     },
     "execution_count": 87,
     "metadata": {},
     "output_type": "execute_result"
    }
   ],
   "source": [
    "sum(4143,8508)"
   ]
  },
  {
   "cell_type": "code",
   "execution_count": 88,
   "metadata": {},
   "outputs": [
    {
     "name": "stdout",
     "output_type": "stream",
     "text": [
      "Some things in life are bad, they can really make you mad\n",
      "Other things just make you swear and curse\n",
      "When you're chewing on life's gristle, don't grumble give a whistle\n",
      "This will help things turn out for the best\n",
      "Always look on the bright side of life\n",
      "Always look on the right side of life\n",
      "If life seems jolly rotten, there's something you've forgotten\n",
      "And that's to laugh and smile and dance and sing\n",
      "When you're feeling in the dumps, don't be silly, chumps\n",
      "Just purse your lips and whistle, that's the thing\n",
      "So, always look on the bright side of death\n",
      "Just before you draw your terminal breath\n",
      "Life's a counterfeit and when you look at it\n",
      "Life's a laugh and death's the joke, it's true\n",
      "You see, it's all a show, keep them laughing as you go\n",
      "Just remember the last laugh is on you\n",
      "Always look on the bright side of life\n",
      "And always look on the right side of life\n",
      "Always look on the bright side of life\n",
      "And always look on the right side of life\n",
      "\n"
     ]
    }
   ],
   "source": [
    "a = open('rosalind_ini5.txt', 'r')\n",
    "b = a.readlines()\n",
    "c = []\n",
    "for line in range(len(b)):\n",
    "    if line % 2 != 0:\n",
    "        c.append(b[line])\n",
    "d = ''\n",
    "for item in c:\n",
    "    d += item\n",
    "print (d)\n",
    "a = open('rosalind_ini5.txt', 'w')\n",
    "a.write(d)\n",
    "a.close()"
   ]
  }
 ],
 "metadata": {
  "kernelspec": {
   "display_name": "Python 3",
   "language": "python",
   "name": "python3"
  },
  "language_info": {
   "codemirror_mode": {
    "name": "ipython",
    "version": 3
   },
   "file_extension": ".py",
   "mimetype": "text/x-python",
   "name": "python",
   "nbconvert_exporter": "python",
   "pygments_lexer": "ipython3",
   "version": "3.6.4"
  }
 },
 "nbformat": 4,
 "nbformat_minor": 2
}
