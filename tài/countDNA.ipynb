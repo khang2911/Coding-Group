{
 "cells": [
  {
   "cell_type": "code",
   "execution_count": 69,
   "metadata": {},
   "outputs": [
    {
     "name": "stdout",
     "output_type": "stream",
     "text": [
      "216  212  193  211\n"
     ]
    }
   ],
   "source": [
    "input_data='CGGCGATTAGAATGTTTCCGCCTAGCTTTCCATCACGTCGATGAATTAGCTCGCACCCCCTCGTTGCTGATCATATCCGGGGTGTGATTTGCTCCTGGGAATCAAATGACCGGGCTGCGAATGGCCGTGATTCGCCCAGCAGCCCAAAAATGGGCCGAGACAATCAGCTCAGCTTCGTTTAACTTATGACGGCTTATACCTATACACTGCAGCATTTCGCGTAAGTTTTGCTCCCGACGAACAAATCCCCGTAGCGCCACAATTACCACCATAGCAATTTCATTGCCTCCCTTGTAAAGTGTAGAAGTGATGTCTCTTTCGGCGAAAATAGACACCTGCATAGAGTATTTGGAGGCTATCCAAACCAATGGACATCCCAAAAAAGGGAGACGTCTACTAGTCATCGTCCCATGAGGACTTTCCGCCCGACATCTGTATTGATATTGCCTGAGAGTTTCGTGCGGCACTTCCATGGCTGGTCCCCCCTGCGCGGGTTCTCCGAACCTTATGAACAAGACCAGTTGCCGGCGCAAATGAGGACAACGTTGGGAACAGATGGGGTCGAAAGAACTTGGCCAACCACTGGGCGGATTTCCCGGCATGACTAACATATAAAACTCAAAAAACTGGCCCTGGCCTAATAATACGAACCTATACTTCATTAGGTTATAGGCGGTAAATTGTTTGTAAACAATTATGATTGCATAGCCTGGGCGCCTTGTACCGCCTCCTAAATGGATAGAGCCGGATCTTATTTAGTATCGACATGACTAGTGACGGGGGCCCCTATAGCTTTTATTGTTAGCAGTCGATCGCCCATAATTAGGGACAG'\n",
    "A = input_data.count('A')\n",
    "T= input_data.count('T')\n",
    "G= input_data.count('G')\n",
    "C=input_data.count('C')\n",
    "print((A),'',(C),'',(G),'',(T))"
   ]
  },
  {
   "cell_type": "code",
   "execution_count": null,
   "metadata": {},
   "outputs": [],
   "source": []
  }
 ],
 "metadata": {
  "kernelspec": {
   "display_name": "Python 3",
   "language": "python",
   "name": "python3"
  },
  "language_info": {
   "codemirror_mode": {
    "name": "ipython",
    "version": 3
   },
   "file_extension": ".py",
   "mimetype": "text/x-python",
   "name": "python",
   "nbconvert_exporter": "python",
   "pygments_lexer": "ipython3",
   "version": "3.6.4"
  }
 },
 "nbformat": 4,
 "nbformat_minor": 2
}
